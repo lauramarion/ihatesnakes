{
 "cells": [
  {
   "cell_type": "markdown",
   "metadata": {},
   "source": [
    "# Openclassrooms: Learn Python Basics for Data Analysis"
   ]
  },
  {
   "cell_type": "code",
   "execution_count": null,
   "metadata": {},
   "outputs": [],
   "source": [
    "checking_account = 500\n",
    "savings_account = 1000\n",
    "\n",
    "# add 100 to our savings (Yeah!)\n",
    "savings_account = savings_account + 100\n",
    "\n",
    "# remove 50 from our checkingaccount (Sniff)\n",
    "checking_account = checking_account - 50\n",
    "\n",
    "# calculate the number of days to save to reach 5000\n",
    "numberDaysSave = (5000 - checking_account) / 500\n",
    "\n",
    "# update our checkingaccount (again) after the daily gains/losses\n",
    "checking_account = checking_account + (30 - 10) * 7"
   ]
  },
  {
   "cell_type": "code",
   "execution_count": 3,
   "metadata": {},
   "outputs": [
    {
     "name": "stdout",
     "output_type": "stream",
     "text": [
      "1100\n"
     ]
    }
   ],
   "source": [
    "savings_account = 1000\n",
    "savings_account += 100\n",
    "print (savings_account)"
   ]
  },
  {
   "cell_type": "code",
   "execution_count": 8,
   "metadata": {},
   "outputs": [
    {
     "name": "stdout",
     "output_type": "stream",
     "text": [
      "My fav cities are San Franscisco and NYC\n",
      "I've been there 5 times\n"
     ]
    }
   ],
   "source": [
    "city_1 = \"San Franscisco \"\n",
    "city_2 = \"NYC\"\n",
    "favorites = \"My fav cities are \" + city_1 + \"and \" + city_2\n",
    "print(favorites)\n",
    "number_trips = 5\n",
    "trips_history = \"I've been there \" + str(number_trips) + \" times\"\n",
    "print(trips_history)"
   ]
  },
  {
   "cell_type": "code",
   "execution_count": 14,
   "metadata": {},
   "outputs": [
    {
     "name": "stdout",
     "output_type": "stream",
     "text": [
      "25\n"
     ]
    }
   ],
   "source": [
    "def printPerimeter(dimension1, dimension2, dimension3):\n",
    "    perimeter = dimension1 + dimension2 + dimension3\n",
    "    print(perimeter)\n",
    "printPerimeter(10, 11, 4) "
   ]
  },
  {
   "cell_type": "code",
   "execution_count": 18,
   "metadata": {},
   "outputs": [
    {
     "name": "stdout",
     "output_type": "stream",
     "text": [
      "blabla 14\n"
     ]
    }
   ],
   "source": [
    "def calculatePerimeter(dimension1, dimension2, dimension3):\n",
    "    perimeter = dimension1 + dimension2 + dimension3\n",
    "    return perimeter\n",
    "test1 = calculatePerimeter(6, 5, 3)\n",
    "print (\"blabla\", test1)"
   ]
  },
  {
   "cell_type": "code",
   "execution_count": 19,
   "metadata": {},
   "outputs": [
    {
     "name": "stdout",
     "output_type": "stream",
     "text": [
      "Help on function calculatePerimeter in module __main__:\n",
      "\n",
      "calculatePerimeter(dimension1, dimension2, dimension3)\n",
      "\n"
     ]
    }
   ],
   "source": [
    "help(calculatePerimeter)"
   ]
  },
  {
   "cell_type": "code",
   "execution_count": 20,
   "metadata": {},
   "outputs": [
    {
     "name": "stdout",
     "output_type": "stream",
     "text": [
      "Help on built-in function pow in module builtins:\n",
      "\n",
      "pow(base, exp, mod=None)\n",
      "    Equivalent to base**exp with 2 arguments or base**exp % mod with 3 arguments\n",
      "    \n",
      "    Some types, such as ints, are able to use a more efficient algorithm when\n",
      "    invoked using the three argument form.\n",
      "\n"
     ]
    }
   ],
   "source": [
    "help(pow)"
   ]
  },
  {
   "cell_type": "markdown",
   "metadata": {},
   "source": [
    "(utilisation de la fonction \"power\" pour multiplier)"
   ]
  },
  {
   "cell_type": "markdown",
   "metadata": {},
   "source": [
    "# class = attributes + methods\n",
    "## écrit variable.method()"
   ]
  },
  {
   "cell_type": "markdown",
   "metadata": {},
   "source": [
    "lower() est une methode spécifique à la classe strings"
   ]
  },
  {
   "cell_type": "code",
   "execution_count": 21,
   "metadata": {},
   "outputs": [
    {
     "data": {
      "text/plain": [
       "'hello world'"
      ]
     },
     "execution_count": 21,
     "metadata": {},
     "output_type": "execute_result"
    }
   ],
   "source": [
    "salut = \"HeLlO wOrLd\"\n",
    "salut.lower()"
   ]
  },
  {
   "cell_type": "markdown",
   "metadata": {},
   "source": [
    "## strings are NOT immutable!\n",
    "peuvent être modifiés avec la fonction replace(old, new)"
   ]
  },
  {
   "cell_type": "code",
   "execution_count": 22,
   "metadata": {},
   "outputs": [
    {
     "name": "stdout",
     "output_type": "stream",
     "text": [
      "this is a superb example\n",
      "this is a excellent example\n"
     ]
    }
   ],
   "source": [
    "salut = \"this is a superb example\"\n",
    "print (salut)\n",
    "print(salut.replace(\"superb\", \"excellent\"))"
   ]
  },
  {
   "cell_type": "code",
   "execution_count": 23,
   "metadata": {},
   "outputs": [
    {
     "name": "stdout",
     "output_type": "stream",
     "text": [
      "this is a superb example\n"
     ]
    }
   ],
   "source": [
    "print (salut)"
   ]
  },
  {
   "cell_type": "markdown",
   "metadata": {},
   "source": [
    "so they are still immutable, you can just make substitutions when printing, like \"AS\"/aliases in SQL"
   ]
  },
  {
   "cell_type": "code",
   "execution_count": 27,
   "metadata": {},
   "outputs": [
    {
     "ename": "SyntaxError",
     "evalue": "invalid syntax (3160427617.py, line 1)",
     "output_type": "error",
     "traceback": [
      "\u001b[1;36m  Cell \u001b[1;32mIn[27], line 1\u001b[1;36m\u001b[0m\n\u001b[1;33m    bye = \"print(salut.replace(\"example\", \"thing\"))\"\u001b[0m\n\u001b[1;37m                                ^\u001b[0m\n\u001b[1;31mSyntaxError\u001b[0m\u001b[1;31m:\u001b[0m invalid syntax\n"
     ]
    }
   ],
   "source": [
    "bye = \"print(salut.replace(\"example\", \"thing\"))\"\n"
   ]
  },
  {
   "cell_type": "code",
   "execution_count": null,
   "metadata": {},
   "outputs": [],
   "source": []
  }
 ],
 "metadata": {
  "kernelspec": {
   "display_name": "base",
   "language": "python",
   "name": "python3"
  },
  "language_info": {
   "codemirror_mode": {
    "name": "ipython",
    "version": 3
   },
   "file_extension": ".py",
   "mimetype": "text/x-python",
   "name": "python",
   "nbconvert_exporter": "python",
   "pygments_lexer": "ipython3",
   "version": "3.11.5"
  }
 },
 "nbformat": 4,
 "nbformat_minor": 2
}
