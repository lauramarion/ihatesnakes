{
 "cells": [
  {
   "cell_type": "markdown",
   "metadata": {},
   "source": [
    "# Openclassrooms: Learn Python Basics for Data Analysis"
   ]
  },
  {
   "cell_type": "code",
   "execution_count": null,
   "metadata": {},
   "outputs": [],
   "source": [
    "checking_account = 500\n",
    "savings_account = 1000\n",
    "\n",
    "# add 100 to our savings (Yeah!)\n",
    "savings_account = savings_account + 100\n",
    "\n",
    "# remove 50 from our checkingaccount (Sniff)\n",
    "checking_account = checking_account - 50\n",
    "\n",
    "# calculate the number of days to save to reach 5000\n",
    "numberDaysSave = (5000 - checking_account) / 500\n",
    "\n",
    "# update our checkingaccount (again) after the daily gains/losses\n",
    "checking_account = checking_account + (30 - 10) * 7"
   ]
  },
  {
   "cell_type": "code",
   "execution_count": 3,
   "metadata": {},
   "outputs": [
    {
     "name": "stdout",
     "output_type": "stream",
     "text": [
      "1100\n"
     ]
    }
   ],
   "source": [
    "savings_account = 1000\n",
    "savings_account += 100\n",
    "print (savings_account)"
   ]
  },
  {
   "cell_type": "code",
   "execution_count": 8,
   "metadata": {},
   "outputs": [
    {
     "name": "stdout",
     "output_type": "stream",
     "text": [
      "My fav cities are San Franscisco and NYC\n",
      "I've been there 5 times\n"
     ]
    }
   ],
   "source": [
    "city_1 = \"San Franscisco \"\n",
    "city_2 = \"NYC\"\n",
    "favorites = \"My fav cities are \" + city_1 + \"and \" + city_2\n",
    "print(favorites)\n",
    "number_trips = 5\n",
    "trips_history = \"I've been there \" + str(number_trips) + \" times\"\n",
    "print(trips_history)"
   ]
  },
  {
   "cell_type": "code",
   "execution_count": 14,
   "metadata": {},
   "outputs": [
    {
     "name": "stdout",
     "output_type": "stream",
     "text": [
      "25\n"
     ]
    }
   ],
   "source": [
    "def printPerimeter(dimension1, dimension2, dimension3):\n",
    "    perimeter = dimension1 + dimension2 + dimension3\n",
    "    print(perimeter)\n",
    "printPerimeter(10, 11, 4) "
   ]
  },
  {
   "cell_type": "code",
   "execution_count": 18,
   "metadata": {},
   "outputs": [
    {
     "name": "stdout",
     "output_type": "stream",
     "text": [
      "blabla 14\n"
     ]
    }
   ],
   "source": [
    "def calculatePerimeter(dimension1, dimension2, dimension3):\n",
    "    perimeter = dimension1 + dimension2 + dimension3\n",
    "    return perimeter\n",
    "test1 = calculatePerimeter(6, 5, 3)\n",
    "print (\"blabla\", test1)"
   ]
  },
  {
   "cell_type": "code",
   "execution_count": 19,
   "metadata": {},
   "outputs": [
    {
     "name": "stdout",
     "output_type": "stream",
     "text": [
      "Help on function calculatePerimeter in module __main__:\n",
      "\n",
      "calculatePerimeter(dimension1, dimension2, dimension3)\n",
      "\n"
     ]
    }
   ],
   "source": [
    "help(calculatePerimeter)"
   ]
  },
  {
   "cell_type": "code",
   "execution_count": 20,
   "metadata": {},
   "outputs": [
    {
     "name": "stdout",
     "output_type": "stream",
     "text": [
      "Help on built-in function pow in module builtins:\n",
      "\n",
      "pow(base, exp, mod=None)\n",
      "    Equivalent to base**exp with 2 arguments or base**exp % mod with 3 arguments\n",
      "    \n",
      "    Some types, such as ints, are able to use a more efficient algorithm when\n",
      "    invoked using the three argument form.\n",
      "\n"
     ]
    }
   ],
   "source": [
    "help(pow)"
   ]
  },
  {
   "cell_type": "markdown",
   "metadata": {},
   "source": [
    "(utilisation de la fonction \"power\" pour multiplier)"
   ]
  },
  {
   "cell_type": "markdown",
   "metadata": {},
   "source": [
    "# class = attributes + methods\n",
    "## écrit variable.method()"
   ]
  },
  {
   "cell_type": "markdown",
   "metadata": {},
   "source": [
    "lower() est une methode spécifique à la classe strings"
   ]
  },
  {
   "cell_type": "code",
   "execution_count": 21,
   "metadata": {},
   "outputs": [
    {
     "data": {
      "text/plain": [
       "'hello world'"
      ]
     },
     "execution_count": 21,
     "metadata": {},
     "output_type": "execute_result"
    }
   ],
   "source": [
    "salut = \"HeLlO wOrLd\"\n",
    "salut.lower()"
   ]
  },
  {
   "cell_type": "markdown",
   "metadata": {},
   "source": [
    "## strings are NOT immutable!\n",
    "peuvent être modifiés avec la fonction replace(old, new)"
   ]
  },
  {
   "cell_type": "code",
   "execution_count": 22,
   "metadata": {},
   "outputs": [
    {
     "name": "stdout",
     "output_type": "stream",
     "text": [
      "this is a superb example\n",
      "this is a excellent example\n"
     ]
    }
   ],
   "source": [
    "salut = \"this is a superb example\"\n",
    "print (salut)\n",
    "print(salut.replace(\"superb\", \"excellent\"))"
   ]
  },
  {
   "cell_type": "code",
   "execution_count": 23,
   "metadata": {},
   "outputs": [
    {
     "name": "stdout",
     "output_type": "stream",
     "text": [
      "this is a superb example\n"
     ]
    }
   ],
   "source": [
    "print (salut)"
   ]
  },
  {
   "cell_type": "markdown",
   "metadata": {},
   "source": [
    "so they are still immutable, you can just make substitutions when printing, like \"AS\"/aliases in SQL"
   ]
  },
  {
   "cell_type": "code",
   "execution_count": 27,
   "metadata": {},
   "outputs": [
    {
     "ename": "SyntaxError",
     "evalue": "invalid syntax (3160427617.py, line 1)",
     "output_type": "error",
     "traceback": [
      "\u001b[1;36m  Cell \u001b[1;32mIn[27], line 1\u001b[1;36m\u001b[0m\n\u001b[1;33m    bye = \"print(salut.replace(\"example\", \"thing\"))\"\u001b[0m\n\u001b[1;37m                                ^\u001b[0m\n\u001b[1;31mSyntaxError\u001b[0m\u001b[1;31m:\u001b[0m invalid syntax\n"
     ]
    }
   ],
   "source": [
    "bye = \"print(salut.replace(\"example\", \"thing\"))\"\n"
   ]
  },
  {
   "cell_type": "code",
   "execution_count": 27,
   "metadata": {},
   "outputs": [
    {
     "name": "stdout",
     "output_type": "stream",
     "text": [
      "['bender', 'r2d2', 'hal', 'marvin']\n"
     ]
    }
   ],
   "source": [
    "robots = [\"bender\", \"r2d2\", \"hal\"]\n",
    "robots.append(\"marvin\")\n",
    "print (robots)"
   ]
  },
  {
   "cell_type": "code",
   "execution_count": 28,
   "metadata": {},
   "outputs": [
    {
     "name": "stdout",
     "output_type": "stream",
     "text": [
      "['bender', 'r2d2', 'hal', 'marvin', 7]\n",
      "['bender', 'r2d2', 'hal', 'marvin']\n",
      "['bender', 'r2d2', 'marvin']\n"
     ]
    }
   ],
   "source": [
    "robots.append(7)\n",
    "print (robots)\n",
    "robots.remove(7)\n",
    "print (robots)\n",
    "robots.remove(\"hal\")\n",
    "print(robots)"
   ]
  },
  {
   "cell_type": "code",
   "execution_count": 35,
   "metadata": {},
   "outputs": [
    {
     "name": "stdout",
     "output_type": "stream",
     "text": [
      "['bender', 'r2d2', 'marvin', 'optimus prime', 'k2so', 'iron giant', 'yes', 'optimus prime', 'k2so', 'yes', 'iron giant', 'optimus prime', 'k2so', 'iron giant', 'optimus prime', 'k2so', 'iron giant', 'optimus prime', 'k2so', 'iron giant', 'optimus prime', 'k2so', 'iron giant', 'optimus prime', 'k2so', 'iron giant']\n",
      "['bender', 'r2d2', 'marvin', 'optimus prime', 'k2so', 'iron giant', 'yes', 'optimus prime', 'k2so', 'yes', 'yes', 'iron giant', 'optimus prime', 'k2so', 'iron giant', 'optimus prime', 'k2so', 'iron giant', 'optimus prime', 'k2so', 'iron giant', 'optimus prime', 'k2so', 'iron giant', 'optimus prime', 'k2so', 'iron giant']\n"
     ]
    }
   ],
   "source": [
    "robots.index(\"bender\")\n",
    "robots.extend([\"optimus prime\", \"k2so\", \"iron giant\"])\n",
    "print (robots)\n",
    "\n",
    "\n",
    "robots.insert(9, \"yes\")\n",
    "print(robots)"
   ]
  },
  {
   "cell_type": "markdown",
   "metadata": {},
   "source": [
    "## DICTIONNARIES work like lists, but for storing key-value pairs (kinda like variables)"
   ]
  },
  {
   "cell_type": "markdown",
   "metadata": {},
   "source": [
    "contrairement aux listes, on peut ajouter une valeur (key:value) au dictionnaire"
   ]
  },
  {
   "cell_type": "code",
   "execution_count": 24,
   "metadata": {},
   "outputs": [
    {
     "name": "stdout",
     "output_type": "stream",
     "text": [
      "150\n",
      "1000\n"
     ]
    },
    {
     "data": {
      "text/plain": [
       "5"
      ]
     },
     "execution_count": 24,
     "metadata": {},
     "output_type": "execute_result"
    }
   ],
   "source": [
    "accounts = {'Marion Weaver': 10000, 'Alberto Mendoza': 150, 'Katharine Tyler': 300, 'Isaac Steele': 1800.74}\n",
    "print(accounts['Alberto Mendoza']) # -> 150\n",
    "\n",
    "accounts['Marion Weaver'] -= 2000 # I subtract 2000 from David's account\n",
    "accounts['Kristian Roach'] = 1000 # I add a new individual in my dictionary\n",
    "print(accounts['Kristian Roach']) # I print the value of Kristian's account\n",
    "\n",
    "len(accounts) # -> 4"
   ]
  },
  {
   "cell_type": "code",
   "execution_count": 25,
   "metadata": {},
   "outputs": [
    {
     "data": {
      "text/plain": [
       "150"
      ]
     },
     "execution_count": 25,
     "metadata": {},
     "output_type": "execute_result"
    }
   ],
   "source": [
    "accounts.pop(\"Alberto Mendoza\")"
   ]
  },
  {
   "cell_type": "code",
   "execution_count": 26,
   "metadata": {},
   "outputs": [
    {
     "name": "stdout",
     "output_type": "stream",
     "text": [
      "{'Marion Weaver': 8000, 'Katharine Tyler': 300, 'Isaac Steele': 1800.74, 'Kristian Roach': 1000}\n"
     ]
    }
   ],
   "source": [
    "print(accounts)"
   ]
  },
  {
   "cell_type": "code",
   "execution_count": 27,
   "metadata": {},
   "outputs": [
    {
     "name": "stdout",
     "output_type": "stream",
     "text": [
      "['thing1']\n",
      "{'evil': 666}\n",
      "never change\n"
     ]
    }
   ],
   "source": [
    "list = [\"thing1\"]\n",
    "dictionary = {\"evil\" : 666}\n",
    "tuple = (\"never change\")\n",
    "\n",
    "print (list)\n",
    "print (dictionary)\n",
    "print (tuple)"
   ]
  },
  {
   "cell_type": "markdown",
   "metadata": {},
   "source": [
    "### list, dictionary, tuple\n",
    "tuple ne peut pas être modifié<br>\n",
    "permet de déclarer plusieurs variables en une fois\n",
    "\n",
    "##recap\n",
    "    Lists: an ordered, editable collection where each item is associated with an index\n",
    "\n",
    "    Dictionaries: an unordered, editable collection where each item is associated with a key\n",
    "\n",
    "    Tuples: an ordered, non-mutable collection , where each item is associated with an index\n",
    "\n",
    "    The most common actions performed with lists and dictionaries are:\n",
    "\n",
    "        Access an item\n",
    "\n",
    "        Add an item\n",
    "\n",
    "        Delete an item\n",
    "\n",
    "        Modify an item\n",
    "\n",
    "        Count the number of items stored\n",
    "\n",
    "    We can perform these different actions via methods."
   ]
  },
  {
   "cell_type": "code",
   "execution_count": 29,
   "metadata": {},
   "outputs": [
    {
     "name": "stdout",
     "output_type": "stream",
     "text": [
      "premier\n",
      "deuxième\n"
     ]
    }
   ],
   "source": [
    "var1, var2 = (\"premier\", \"deuxième\")\n",
    "print (var1)\n",
    "print (var2)"
   ]
  },
  {
   "cell_type": "code",
   "execution_count": 1,
   "metadata": {},
   "outputs": [],
   "source": [
    "name = input(\"who are you?\")"
   ]
  },
  {
   "cell_type": "code",
   "execution_count": 3,
   "metadata": {},
   "outputs": [
    {
     "name": "stdout",
     "output_type": "stream",
     "text": [
      "Hello valiero !\n",
      "salut valiero ça va\n"
     ]
    }
   ],
   "source": [
    "if len(name) > 0:\n",
    "    print(\"Hello\", name, \"!\")\n",
    "    print(f\"salut {name} ça va\")\n",
    "else:\n",
    "    print(\"Hello, world!\")"
   ]
  },
  {
   "cell_type": "markdown",
   "metadata": {},
   "source": [
    "variable.startswith(\"debut du sting\") <br>\n",
    "est une methode de la classe string, retourne un boolean true/false"
   ]
  },
  {
   "cell_type": "code",
   "execution_count": 5,
   "metadata": {},
   "outputs": [
    {
     "name": "stdout",
     "output_type": "stream",
     "text": [
      "True\n"
     ]
    }
   ],
   "source": [
    "weather = \"The weather is great!\"\n",
    "meteo = weather.startswith(\"The weather\") # -> True\n",
    "print(meteo)"
   ]
  },
  {
   "cell_type": "markdown",
   "metadata": {},
   "source": [
    "# Boolean AND/OR/NOT operators <br>\n",
    "As with numeric operations, logical operators respect the priorities of operations: the  not  operator is applied first, then the  and  operator, then the   or  operator. For example:"
   ]
  },
  {
   "cell_type": "code",
   "execution_count": null,
   "metadata": {},
   "outputs": [],
   "source": [
    "False or True and True # True\n",
    "not(False) and True or False # True\n",
    "(True and False) or True # True\n",
    "not(True and False or not(True)) # True"
   ]
  },
  {
   "cell_type": "markdown",
   "metadata": {},
   "source": [
    "# IN operator\n"
   ]
  },
  {
   "cell_type": "code",
   "execution_count": 6,
   "metadata": {},
   "outputs": [
    {
     "data": {
      "text/plain": [
       "False"
      ]
     },
     "execution_count": 6,
     "metadata": {},
     "output_type": "execute_result"
    }
   ],
   "source": [
    "myList = [4, 2, 3, 2, 10]\n",
    "myStringList = [\"a\", \"b\", \"c\", \"d\"]\n",
    "myString = \"The weather is really good today!\"\n",
    "\n",
    "4 in myList # True\n",
    "0 in myList # False\n",
    "0 in myStringList # False\n",
    "\"c\" in myStringList # True\n",
    "\"e\" in myStringList # False\n",
    "\"weather\" in myString # True\n",
    "\"really\" in myString # True\n",
    "\"rain?\" in myString # False"
   ]
  },
  {
   "cell_type": "markdown",
   "metadata": {},
   "source": [
    "# FOR loops\n",
    "The conventional use of loops in Python is to directly use the different values of a collection (list, or a string being a list of characters)"
   ]
  },
  {
   "cell_type": "code",
   "execution_count": 2,
   "metadata": {},
   "outputs": [
    {
     "name": "stdout",
     "output_type": "stream",
     "text": [
      "hello\n",
      "hello\n",
      "hello\n",
      "hello\n"
     ]
    }
   ],
   "source": [
    "movie_list = [\"E.T.\", \"IT\", \"A.I.\", \"The martian\"]\n",
    "\n",
    "for something in movie_list:\n",
    "    print (\"hello\")\n",
    "\n"
   ]
  },
  {
   "cell_type": "code",
   "execution_count": 5,
   "metadata": {},
   "outputs": [
    {
     "name": "stdout",
     "output_type": "stream",
     "text": [
      "E.T.\n",
      "TLOTR\n",
      "IT\n",
      "TLOTR\n",
      "A.I.\n",
      "TLOTR\n",
      "The martian\n",
      "TLOTR\n",
      "T\n",
      "L\n",
      "O\n",
      "T\n",
      "R\n",
      "yay\n",
      "yay\n",
      "yay\n",
      "yay\n",
      "yay\n"
     ]
    }
   ],
   "source": [
    "the_best = \"TLOTR\"\n",
    "movie_list = [\"E.T.\", \"IT\", \"A.I.\", \"The martian\"]\n",
    "\n",
    "for something in movie_list:\n",
    "    print(something)\n",
    "    print(the_best)\n",
    "\n",
    "for whatever in the_best:\n",
    "    print(whatever)\n",
    "\n",
    "for whatever in the_best:\n",
    "    print(\"yay\")\n"
   ]
  },
  {
   "cell_type": "code",
   "execution_count": 14,
   "metadata": {},
   "outputs": [
    {
     "name": "stdout",
     "output_type": "stream",
     "text": [
      "1 T\n",
      "2 L\n",
      "3 O\n",
      "4 T\n",
      "5 R\n"
     ]
    }
   ],
   "source": [
    "the_best = \"TLOTR\"\n",
    "counter = 1\n",
    "for stuff in the_best:\n",
    "    print(counter, stuff)\n",
    "    counter += 1"
   ]
  },
  {
   "cell_type": "markdown",
   "metadata": {},
   "source": [
    "## FOR loop in RANGE (au lieu de list)\n",
    "#### loop via an Iterative Integer Value : range(start, stop, step)\n",
    "to do this, you will use the   range(start, stop, step)  function, which will generate a collection of numbers according to three parameters:\n",
    "    start : the first number of the sequence.\n",
    "    stop  corresponds to the last number of the sequence, non-inclusive. The function will generate numbers from start to stop-1.\n",
    "    step :  the step between each generated number."
   ]
  },
  {
   "cell_type": "code",
   "execution_count": 16,
   "metadata": {},
   "outputs": [
    {
     "name": "stdout",
     "output_type": "stream",
     "text": [
      "hello\n",
      "hello\n",
      "hello\n",
      "hello\n",
      "hello\n"
     ]
    }
   ],
   "source": [
    "for i in range (5):\n",
    "    print(\"hello\")"
   ]
  },
  {
   "cell_type": "code",
   "execution_count": 17,
   "metadata": {},
   "outputs": [
    {
     "name": "stdout",
     "output_type": "stream",
     "text": [
      "salut\n",
      "salut\n",
      "salut\n"
     ]
    }
   ],
   "source": [
    "for i in range (2, 5):\n",
    "    print(\"salut\")"
   ]
  },
  {
   "cell_type": "code",
   "execution_count": 19,
   "metadata": {},
   "outputs": [
    {
     "name": "stdout",
     "output_type": "stream",
     "text": [
      "hey\n",
      "hey\n"
     ]
    }
   ],
   "source": [
    "for i in range (2,5,2):\n",
    "    print(\"hey\")"
   ]
  },
  {
   "cell_type": "code",
   "execution_count": null,
   "metadata": {},
   "outputs": [],
   "source": [
    "for i in range(0, 5, 1):\n",
    "    print(i) # -> print from 0 to 4 by steps of 1 (end - 1)\n",
    "\n",
    "for i in range(0, 5):\n",
    "    print(i) # -> prints from 0 to 4 also (default step is 1)\n",
    "\n",
    "for i in range(5):\n",
    "    print(i) # -> prints from 0 to 4 also (default start is 0)\n",
    "\n",
    "for i in range(0, 5, 2):\n",
    "    print(i) # -> print 0, 2 then 4"
   ]
  },
  {
   "cell_type": "markdown",
   "metadata": {},
   "source": [
    "# WHILE Loop"
   ]
  },
  {
   "cell_type": "code",
   "execution_count": 22,
   "metadata": {},
   "outputs": [
    {
     "name": "stdout",
     "output_type": "stream",
     "text": [
      "new plant! it is number 1\n",
      "new plant! it is number 2\n",
      "new plant! it is number 3\n",
      "new plant! it is number 4\n",
      "new plant! it is number 5\n",
      "enough now\n"
     ]
    }
   ],
   "source": [
    "plants = 0\n",
    "while plants < 5:\n",
    "    plants +=1\n",
    "    print(\"new plant!\", \"it is number\", plants)\n",
    "print(\"enough now\")\n"
   ]
  },
  {
   "cell_type": "markdown",
   "metadata": {},
   "source": [
    "## skip or stop the loop : CONTINUE or BREAK\n",
    "For example, you want to repeat something 10 times, but skip (at least partially) when the value is 2 or 5. In Python, to force the start of the next loop iteration, use the keyword *continue*\n",
    "\n",
    "You can also decide to interrupt the loop, for example when looking for a particular item in a list. For this, you will use the   *break*  keyword."
   ]
  },
  {
   "cell_type": "code",
   "execution_count": 23,
   "metadata": {},
   "outputs": [
    {
     "name": "stdout",
     "output_type": "stream",
     "text": [
      "0\n",
      "i != 2 & i != 5\n",
      "1\n",
      "i != 2 & i != 5\n",
      "2\n",
      "Special case\n",
      "3\n",
      "i != 2 & i != 5\n",
      "4\n",
      "i != 2 & i != 5\n",
      "5\n",
      "Special case\n",
      "6\n",
      "i != 2 & i != 5\n",
      "7\n",
      "i != 2 & i != 5\n",
      "8\n",
      "i != 2 & i != 5\n",
      "9\n",
      "i != 2 & i != 5\n"
     ]
    }
   ],
   "source": [
    "for i in range(10):\n",
    "    # statements executed at each iteration\n",
    "    print(i)\n",
    "    if (i == 2) or (i == 5):\n",
    "        print(\"Special case\")\n",
    "        continue\n",
    "    # statements not executed if i == 2 or 5\n",
    "    print(\"i != 2 & i != 5\")"
   ]
  },
  {
   "cell_type": "code",
   "execution_count": 24,
   "metadata": {},
   "outputs": [
    {
     "name": "stdout",
     "output_type": "stream",
     "text": [
      "I have an orange!\n"
     ]
    }
   ],
   "source": [
    "basket = [\"apple\", \"orange\", \"banana\"]\n",
    "\n",
    "for fruit in basket:\n",
    "    if fruit == \"orange\":\n",
    "        print(\"I have an orange!\")\n",
    "        break"
   ]
  }
 ],
 "metadata": {
  "kernelspec": {
   "display_name": "base",
   "language": "python",
   "name": "python3"
  },
  "language_info": {
   "codemirror_mode": {
    "name": "ipython",
    "version": 3
   },
   "file_extension": ".py",
   "mimetype": "text/x-python",
   "name": "python",
   "nbconvert_exporter": "python",
   "pygments_lexer": "ipython3",
   "version": "3.11.5"
  }
 },
 "nbformat": 4,
 "nbformat_minor": 2
}
